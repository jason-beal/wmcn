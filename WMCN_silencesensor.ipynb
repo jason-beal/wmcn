{
  "nbformat": 4,
  "nbformat_minor": 0,
  "metadata": {
    "colab": {
      "name": "WMCN_silencesensor.ipynb",
      "provenance": [],
      "collapsed_sections": []
    },
    "kernelspec": {
      "display_name": "Python 3",
      "name": "python3"
    },
    "language_info": {
      "name": "python"
    }
  },
  "cells": [
    {
      "cell_type": "code",
      "metadata": {
        "colab": {
          "base_uri": "https://localhost:8080/"
        },
        "id": "Rj-JE4BzabN7",
        "outputId": "bc33626e-ac23-4c98-bbc5-a83c83884989"
      },
      "source": [
        "# Install external library\n",
        "!pip install pydub"
      ],
      "execution_count": 1,
      "outputs": [
        {
          "output_type": "stream",
          "text": [
            "Collecting pydub\n",
            "  Downloading pydub-0.25.1-py2.py3-none-any.whl (32 kB)\n",
            "Installing collected packages: pydub\n",
            "Successfully installed pydub-0.25.1\n"
          ],
          "name": "stdout"
        }
      ]
    },
    {
      "cell_type": "code",
      "metadata": {
        "id": "1QpKFbOMaH4w"
      },
      "source": [
        "# Import other libraries\n",
        "import time\n",
        "import requests\n",
        "import numpy as np\n",
        "import smtplib, ssl\n",
        "import datetime as dt\n",
        "from pydub import AudioSegment"
      ],
      "execution_count": 2,
      "outputs": []
    },
    {
      "cell_type": "code",
      "metadata": {
        "id": "kie8fp0TZ9sj"
      },
      "source": [
        "# Request stream from Icecast server\n",
        "streamurl = 'http://macalester-1.colo.iphouse.net:8080/wmcn'\n",
        "r = requests.get(streamurl, stream=True)\n",
        "\n",
        "# Define function that samples stream every other minute, then computes the \n",
        "# mean magnitude of the audiofile\n",
        "def avg_stream_vol():\n",
        "  with open('stream.mp3', 'wb') as f:\n",
        "    try:\n",
        "        for block in r.iter_content(1024):\n",
        "          if dt.datetime.now().minute % 2 == 0:\n",
        "            f.write(block)\n",
        "          elif dt.datetime.now().minute % 2 != 0:\n",
        "            time.sleep(60)\n",
        "            break\n",
        "          else:\n",
        "            pass\n",
        "    except KeyboardInterrupt:\n",
        "        pass\n",
        "\n",
        "  mp3 = AudioSegment.from_mp3('stream.mp3')\n",
        "  raw = mp3.get_array_of_samples()\n",
        "  raw = np.array(raw)\n",
        "  raw = np.multiply(raw, raw)\n",
        "\n",
        "  return raw.mean()\n",
        "\n",
        "# Define function that takes output of avg_stream_vol(), determines if signal\n",
        "# is live or dead, and sends email alert if signal is dead\n",
        "def dead_air_alert(avg_vol):\n",
        "  if avg_vol <= 1:\n",
        "    dead = True\n",
        "    alert = \"\"\"\\\n",
        "    Subject: WMCN Signal Status\n",
        "\n",
        "    Signal is dead. Red alert!\"\"\" + dt.datetime.now()\n",
        "    context = ssl.create_default_context()\n",
        "    with smtplib.SMTP_SSL(\"smtp.gmail.com\", port, context=context) as server:\n",
        "      server.login(sender_email, password)\n",
        "      server.sendmail(sender_email, receiver_email, alert)\n",
        "  else:\n",
        "    pass"
      ],
      "execution_count": 5,
      "outputs": []
    },
    {
      "cell_type": "code",
      "metadata": {
        "colab": {
          "base_uri": "https://localhost:8080/"
        },
        "id": "-SvFkyOnFYXV",
        "outputId": "d20ec4d9-4b4d-473b-cc71-555c76470217"
      },
      "source": [
        "# Initialize parameters for silence sensor loop\n",
        "dead = False\n",
        "stop_date = dt.datetime(2021,8,14,0,0,0)\n",
        "port = 465  # For SSL\n",
        "smtp_server = \"smtp.gmail.com\"\n",
        "sender_email = \"jebcodes@gmail.com\"\n",
        "receiver_email = \"jbeal@macalester.edu\"\n",
        "password = input(\"Type your password and press enter: \")"
      ],
      "execution_count": 8,
      "outputs": [
        {
          "output_type": "stream",
          "text": [
            "Type your password and press enter: testcodereceiver\n"
          ],
          "name": "stdout"
        }
      ]
    },
    {
      "cell_type": "code",
      "metadata": {
        "id": "nrZQaE493qQ-"
      },
      "source": [
        "# Run silence sensor\n",
        "while dt.datetime.now() <= stop_date:\n",
        "  avg_vol = avg_stream_vol()\n",
        "  dead_air_alert(avg_vol)\n",
        "  if dead:\n",
        "    print('Signal is dead. Red alert!' + dt.datetime.now())\n",
        "    break"
      ],
      "execution_count": null,
      "outputs": []
    },
    {
      "cell_type": "markdown",
      "metadata": {
        "id": "PYAQeAbMLlI3"
      },
      "source": [
        "Next steps:\n",
        "- test and troubleshoot code under variety of circumstances and scenarios\n",
        "- expand code to include a check for if the stream itself is functional (in case the url request fails because stream is down but signal may still be live)"
      ]
    }
  ]
}